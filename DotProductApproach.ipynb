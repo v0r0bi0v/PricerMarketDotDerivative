{
 "cells": [
  {
   "cell_type": "markdown",
   "metadata": {},
   "source": [
    "# Imports"
   ]
  },
  {
   "cell_type": "code",
   "execution_count": 36,
   "metadata": {},
   "outputs": [
    {
     "data": {
      "text/plain": [
       "'3'"
      ]
     },
     "execution_count": 36,
     "metadata": {},
     "output_type": "execute_result"
    }
   ],
   "source": [
    "import numpy as np\n",
    "from scipy.stats import norm\n",
    "from enum import Enum\n",
    "import typing as tp\n",
    "from tqdm.notebook import tqdm_notebook as tqdm\n",
    "import matplotlib.pyplot as plt\n",
    "from IPython.display import clear_output\n",
    "from os import listdir\n",
    "import os\n",
    "import pandas as pd\n",
    "\n",
    "saves = listdir(\"saves/models/\")\n",
    "saves = list(map(lambda x: int(x.split(\".\")[0]), saves))\n",
    "\n",
    "SESSION = str(max(saves) + 1)\n",
    "\n",
    "# SESSION = str(max(saves))\n",
    "\n",
    "SESSION"
   ]
  },
  {
   "cell_type": "markdown",
   "metadata": {},
   "source": [
    "# Markets & Derivatives Classes"
   ]
  },
  {
   "cell_type": "code",
   "execution_count": 37,
   "metadata": {},
   "outputs": [],
   "source": [
    "class Markets(Enum):\n",
    "    BlackScholes = \"MarketBlackScholes\"\n",
    "\n",
    "class Derivatives(Enum):\n",
    "    OptionPut = \"OptionPut\""
   ]
  },
  {
   "cell_type": "code",
   "execution_count": 38,
   "metadata": {},
   "outputs": [],
   "source": [
    "class StateHolder:\n",
    "    def __init__(\n",
    "        self, \n",
    "        state: np.ndarray, \n",
    "        name: tp.Any\n",
    "    ):\n",
    "        self.state = np.array(state)\n",
    "        self.name = name\n",
    "        if self.name not in Markets and self.name not in Derivatives:\n",
    "            raise ValueError(f\"name must be one of Markets or Derivatives\")\n",
    "        self.is_market = name in Markets\n",
    "\n",
    "    def get_state(\n",
    "        self\n",
    "    ) -> np.ndarray:\n",
    "        return self.state\n",
    "    \n",
    "    def generate_states_arround(\n",
    "        self,\n",
    "        cnt: int,\n",
    "        sigmas: np.ndarray | None = None\n",
    "    ) -> tp.List[\"StateHolder\"]:\n",
    "        if sigmas is None:\n",
    "            sigmas = self.state / 10\n",
    "        states = np.random.normal(size=(cnt, len(self.state)))\n",
    "        states *= sigmas\n",
    "        states += self.state\n",
    "        results = [StateHolder(state, self.name) for state in states]\n",
    "        return results"
   ]
  },
  {
   "cell_type": "markdown",
   "metadata": {},
   "source": [
    "# Функция цены"
   ]
  },
  {
   "cell_type": "code",
   "execution_count": 39,
   "metadata": {},
   "outputs": [],
   "source": [
    "def price(\n",
    "        market: StateHolder, \n",
    "        derivative: StateHolder\n",
    "    ) -> float:\n",
    "    if market.name == Markets.BlackScholes and derivative.name == Derivatives.OptionPut:\n",
    "        asset0, sigma, discount_rate = market.get_state()\n",
    "        strike, maturity = derivative.get_state()\n",
    "\n",
    "        if asset0 <= 0 or strike <= 0 or sigma <= 0 or maturity <= 0:\n",
    "            raise ValueError(\"Incorrect parameters of B-SH model\")\n",
    "        \n",
    "        d1 = (np.log(asset0 / strike) + (discount_rate + 0.5 * sigma**2) * maturity) / (sigma * np.sqrt(maturity))\n",
    "        d2 = d1 - sigma * np.sqrt(maturity)\n",
    "\n",
    "        put_price = norm.cdf(-d2) * strike * np.exp(-discount_rate * maturity) - norm.cdf(-d1) * asset0\n",
    "        return put_price\n",
    "    raise NotImplementedError(f\"market: {market.name} or derivative: {derivative.name} is/are not implemented\")"
   ]
  },
  {
   "cell_type": "markdown",
   "metadata": {},
   "source": [
    "# Generating data"
   ]
  },
  {
   "cell_type": "code",
   "execution_count": 40,
   "metadata": {},
   "outputs": [],
   "source": [
    "CNT = 1_000_000"
   ]
  },
  {
   "cell_type": "code",
   "execution_count": 41,
   "metadata": {},
   "outputs": [],
   "source": [
    "init_market = StateHolder(\n",
    "    np.array([\n",
    "            100.,  # asset0,\n",
    "            0.2,  # sigma\n",
    "            0.05  # discount rate\n",
    "        ]),\n",
    "    Markets.BlackScholes\n",
    ")\n",
    "\n",
    "init_derivative = StateHolder(\n",
    "    np.array([\n",
    "        100.,  # strike\n",
    "        1.  # maturity\n",
    "    ]),\n",
    "    Derivatives.OptionPut\n",
    ")\n",
    "\n",
    "markets = init_market.generate_states_arround(\n",
    "    CNT,\n",
    "    sigmas = init_market.get_state() / 10\n",
    ")\n",
    "\n",
    "derivatives = init_derivative.generate_states_arround(\n",
    "    CNT, \n",
    "    sigmas = init_derivative.get_state() / 10\n",
    ")"
   ]
  },
  {
   "cell_type": "code",
   "execution_count": null,
   "metadata": {},
   "outputs": [
    {
     "data": {
      "application/vnd.jupyter.widget-view+json": {
       "model_id": "5354a1fd97bb4b38b4ad460daa3037ad",
       "version_major": 2,
       "version_minor": 0
      },
      "text/plain": [
       "  0%|          | 0/1000000 [00:00<?, ?it/s]"
      ]
     },
     "metadata": {},
     "output_type": "display_data"
    }
   ],
   "source": [
    "if f\"{SESSION}.npy\" in listdir(\"saves/data/\"):\n",
    "    _x = np.load(f\"saves/data/{SESSION}.npy\")\n",
    "    target = _x[:, -2]\n",
    "    states_market = _x[:, 0 : init_market.get_state().shape[0]]\n",
    "    states_derivative = _x[:, init_market.get_state().shape[0] : init_market.get_state().shape[0] + init_derivative.get_state().shape[0]]\n",
    "    train_mask = _x[:, -1].astype(bool)\n",
    "else:\n",
    "    target = np.zeros(len(markets))\n",
    "\n",
    "    _iter = list(zip(range(0, len(markets)), markets, derivatives))\n",
    "\n",
    "    states_market = np.array([market.get_state() for market in markets])\n",
    "    states_derivative = np.array([derivative.get_state() for derivative in derivatives])\n",
    "\n",
    "    for i, market, derivative in tqdm(_iter):\n",
    "        target[i] = price(market, derivative)\n",
    "\n",
    "\n",
    "    test_part = 0.2\n",
    "\n",
    "    train_mask = np.ones(len(target), dtype=int)\n",
    "    train_mask[:int(len(train_mask) * test_part)] = 0\n",
    "    np.random.shuffle(train_mask)\n",
    "    train_mask = train_mask.astype(bool)\n",
    "\n",
    "    np.save(\n",
    "        f\"saves/data/{SESSION}\",\n",
    "        np.hstack([\n",
    "            states_market,\n",
    "            states_derivative, \n",
    "            target.reshape((-1, 1)),\n",
    "            train_mask.reshape((-1, 1))\n",
    "        ])\n",
    "    )"
   ]
  },
  {
   "cell_type": "code",
   "execution_count": null,
   "metadata": {},
   "outputs": [],
   "source": [
    "states_market_train = states_market[train_mask]\n",
    "states_market_test = states_market[~train_mask]\n",
    "states_derivative_train = states_derivative[train_mask]\n",
    "states_derivative_test = states_derivative[~train_mask]\n",
    "target_train = target[train_mask]\n",
    "target_test = target[~train_mask]"
   ]
  },
  {
   "cell_type": "markdown",
   "metadata": {},
   "source": [
    "# Model"
   ]
  },
  {
   "cell_type": "code",
   "execution_count": null,
   "metadata": {},
   "outputs": [
    {
     "name": "stdout",
     "output_type": "stream",
     "text": [
      "Using device: cpu\n"
     ]
    }
   ],
   "source": [
    "import torch\n",
    "import torch.nn as nn\n",
    "import torch.optim as optim\n",
    "import torch.nn.functional as F\n",
    "import torch.nn.init as init\n",
    "\n",
    "device = torch.device(\"cuda\" if torch.cuda.is_available() else \"cpu\")\n",
    "print(f\"Using device: {device}\")\n",
    "\n",
    "states_market_train = torch.tensor(states_market[train_mask]).float().to(device)\n",
    "states_market_test = torch.tensor(states_market[~train_mask]).float().to(device)\n",
    "states_derivative_train = torch.tensor(states_derivative[train_mask]).float().to(device)\n",
    "states_derivative_test = torch.tensor(states_derivative[~train_mask]).float().to(device)\n",
    "target_train = torch.tensor(target[train_mask]).float().to(device)\n",
    "target_test = torch.tensor(target[~train_mask]).float().to(device)"
   ]
  },
  {
   "cell_type": "code",
   "execution_count": null,
   "metadata": {},
   "outputs": [],
   "source": [
    "class Embedding(nn.Module):\n",
    "    def __init__(\n",
    "        self, \n",
    "        input_dim: int, \n",
    "        output_dim: int, \n",
    "        cnt_hidden_layers: int = 1, \n",
    "        hidden_layer_sizes: tp.List[float] | None = None,\n",
    "        normalize_output: bool = False\n",
    "    ):\n",
    "        super(Embedding, self).__init__()\n",
    "        \n",
    "        if hidden_layer_sizes is None:\n",
    "            hidden_layer_sizes = [20] * cnt_hidden_layers\n",
    "        \n",
    "        assert len(hidden_layer_sizes) == cnt_hidden_layers, \\\n",
    "            f\"Length of hidden_layer_sizes must be equal cnt_hidden_layers: {len(hidden_layer_sizes)} != {cnt_hidden_layers}\"\n",
    "        \n",
    "        layers = []\n",
    "        \n",
    "        layers.append(nn.Linear(input_dim, hidden_layer_sizes[0]))\n",
    "        layers.append(nn.ReLU())\n",
    "        \n",
    "        for i in range(1, cnt_hidden_layers):\n",
    "            layers.append(nn.Linear(hidden_layer_sizes[i - 1], hidden_layer_sizes[i]))\n",
    "            layers.append(nn.ReLU())\n",
    "        \n",
    "        layers.append(nn.Linear(hidden_layer_sizes[-1], output_dim))\n",
    "        \n",
    "        self.model = nn.Sequential(*layers)\n",
    "        self.normalize_output = normalize_output\n",
    "\n",
    "        self.apply(self._initialize_weights)\n",
    "\n",
    "    def _initialize_weights(self, module):\n",
    "        if isinstance(module, nn.Linear):\n",
    "            init.xavier_normal_(module.weight)\n",
    "            if module.bias is not None:\n",
    "                init.zeros_(module.bias)\n",
    "\n",
    "    def forward(self, state):\n",
    "        output = self.model(state)\n",
    "        if self.normalize_output:\n",
    "            output = F.softmax(output, dim=-1)\n",
    "        return output"
   ]
  },
  {
   "cell_type": "code",
   "execution_count": null,
   "metadata": {},
   "outputs": [],
   "source": [
    "def save_model(model_market, model_derivative, optimizer, epoch, loss_train, loss_test, filepath=\"model_checkpoint.pth\"):\n",
    "    checkpoint = {\n",
    "        'epoch': epoch,\n",
    "        'model_market_state_dict': model_market.state_dict(),\n",
    "        'model_derivative_state_dict': model_derivative.state_dict(),\n",
    "        'optimizer_state_dict': optimizer.state_dict(),\n",
    "        'loss_train': loss_train,\n",
    "        'loss_test': loss_test\n",
    "    }\n",
    "    torch.save(checkpoint, filepath)\n",
    "    print(f\"Model saved to {filepath}\")\n",
    "\n",
    "def load_model(model_market, model_derivative, optimizer, filepath=\"model_checkpoint.pth\"):\n",
    "    if os.path.exists(filepath):\n",
    "        checkpoint = torch.load(filepath)\n",
    "        \n",
    "        model_market.load_state_dict(checkpoint['model_market_state_dict'])\n",
    "        model_derivative.load_state_dict(checkpoint['model_derivative_state_dict'])\n",
    "        optimizer.load_state_dict(checkpoint['optimizer_state_dict'])\n",
    "        \n",
    "        epoch = checkpoint['epoch']\n",
    "        loss_train = checkpoint['loss_train']\n",
    "        loss_test = checkpoint['loss_test']\n",
    "        \n",
    "        print(f\"Model loaded from {filepath}, starting from epoch {epoch}\")\n",
    "        return model_market, model_derivative, optimizer, epoch, loss_train, loss_test\n",
    "    else:\n",
    "        print(f\"No checkpoint found at {filepath}. Starting from scratch.\")\n",
    "        return model_market, model_derivative, optimizer, 0, [], []\n"
   ]
  },
  {
   "cell_type": "markdown",
   "metadata": {},
   "source": [
    "# Обучение"
   ]
  },
  {
   "cell_type": "code",
   "execution_count": null,
   "metadata": {},
   "outputs": [
    {
     "name": "stdout",
     "output_type": "stream",
     "text": [
      "mkdir: ./tensorboard/BlackScholesPut/1734659073237314000: File exists\n"
     ]
    }
   ],
   "source": [
    "from torch.utils.tensorboard import SummaryWriter\n",
    "!/bin/mkdir  ./tensorboard/BlackScholesPut/\"{SESSION}\"\n",
    "tensorboard_dir = f\"tensorboard/BlackScholesPut/{SESSION}\""
   ]
  },
  {
   "cell_type": "code",
   "execution_count": null,
   "metadata": {},
   "outputs": [
    {
     "name": "stdout",
     "output_type": "stream",
     "text": [
      "zsh:1: no matches found: ./tensorboard/BlackScholesPut/1734659073237314000/*\n"
     ]
    }
   ],
   "source": [
    "OUTPUT_DIM = 15\n",
    "\n",
    "is_saved = f\"{SESSION}.model\" in listdir(\"saves/models/\")\n",
    "\n",
    "if not is_saved:\n",
    "    model_market = Embedding(\n",
    "        input_dim = init_market.get_state().shape[0],\n",
    "        output_dim = OUTPUT_DIM,\n",
    "        cnt_hidden_layers = 5,\n",
    "        hidden_layer_sizes = [20, 30, 40, 30, 20],\n",
    "        normalize_output = True\n",
    "    )\n",
    "\n",
    "    model_derivative = Embedding(\n",
    "        input_dim = init_derivative.get_state().shape[0],\n",
    "        output_dim = OUTPUT_DIM,\n",
    "        cnt_hidden_layers = 5,\n",
    "        hidden_layer_sizes = [20] * 5,\n",
    "        normalize_output = False\n",
    "    )\n",
    "\n",
    "    optimizer = optim.Adam(\n",
    "        list(model_market.parameters()) + list(model_derivative.parameters()), \n",
    "        lr=0.001\n",
    "    )\n",
    "\n",
    "    criterion = nn.MSELoss()\n",
    "else:\n",
    "    model_market = Embedding(\n",
    "        input_dim = init_market.get_state().shape[0],\n",
    "        output_dim = OUTPUT_DIM,\n",
    "        cnt_hidden_layers = 5,\n",
    "        hidden_layer_sizes = [20] * 5,\n",
    "        normalize_output = True\n",
    "    )\n",
    "    model_derivative = Embedding(\n",
    "        input_dim = init_derivative.get_state().shape[0],\n",
    "        output_dim = OUTPUT_DIM,\n",
    "        cnt_hidden_layers = 5,\n",
    "        hidden_layer_sizes = [20] * 5,\n",
    "        normalize_output = False\n",
    "    )\n",
    "    optimizer = optim.Adam(\n",
    "        list(model_market.parameters()) + list(model_derivative.parameters()), \n",
    "        lr=0.001\n",
    "    )\n",
    "    model_market, model_derivative, optimizer, epoch, loss_train, loss_test = load_model(model_market, model_derivative, optimizer, f\"models/{SESSION}.model\")"
   ]
  },
  {
   "cell_type": "code",
   "execution_count": null,
   "metadata": {},
   "outputs": [
    {
     "data": {
      "image/png": "[encoded data removed]",
      "text/plain": [
       "<Figure size 1000x500 with 1 Axes>"
      ]
     },
     "metadata": {},
     "output_type": "display_data"
    },
    {
     "data": {
      "image/png": "[encoded data removed]",
      "text/plain": [
       "<Figure size 1000x500 with 1 Axes>"
      ]
     },
     "metadata": {},
     "output_type": "display_data"
    },
    {
     "name": "stdout",
     "output_type": "stream",
     "text": [
      "Model saved to 1734659073237314000.model\n"
     ]
    }
   ],
   "source": [
    "if not is_saved:\n",
    "    losses_train = []  # для хранения потерь на обучении\n",
    "    losses_test = []\n",
    "    writer = SummaryWriter(log_dir=tensorboard_dir)\n",
    "\n",
    "    # Начальные параметры\n",
    "    how_often_to_plot = 50  # частота вывода графиков\n",
    "    test_interval = 100  # интервал для инференса на тесте\n",
    "\n",
    "    cnt_epochs = 100_000\n",
    "\n",
    "    # Цикл обучения\n",
    "    for epoch in tqdm(range(cnt_epochs)):\n",
    "        # fit\n",
    "        try:\n",
    "            model_market.train()\n",
    "            model_derivative.train()\n",
    "            \n",
    "            optimizer.zero_grad()\n",
    "            embedding_market = model_market(states_market_train)\n",
    "            embedding_derivative = model_derivative(states_derivative_train)\n",
    "            predictions_train = torch.sum(embedding_market * embedding_derivative, dim=1)\n",
    "            \n",
    "            loss_train = criterion(predictions_train, target_train)\n",
    "            losses_train.append(loss_train.item() ** 0.5)\n",
    "            writer.add_scalar(\"Loss/train\", loss_train.item() ** 0.5, epoch)\n",
    "\n",
    "            loss_train.backward()\n",
    "            optimizer.step()\n",
    "\n",
    "            # predict on test\n",
    "            if epoch % test_interval == 0 or epoch == cnt_epochs - 1:\n",
    "                model_market.eval()\n",
    "                model_derivative.eval()\n",
    "\n",
    "                with torch.no_grad():\n",
    "                    embedding_market_test = model_market(states_market_test)\n",
    "                    embedding_derivative_test = model_derivative(states_derivative_test)\n",
    "                    predictions_test_epoch = torch.sum(embedding_market_test * embedding_derivative_test, dim=1)\n",
    "\n",
    "                loss_test = criterion(predictions_test_epoch, target_test)\n",
    "                losses_test.append(loss_test.item() ** 0.5)\n",
    "                writer.add_scalar(\"Loss/test\", loss_test.item() ** 0.5, epoch)\n",
    "\n",
    "            # plotting\n",
    "            if epoch % how_often_to_plot == 0 or epoch == cnt_epochs - 1:\n",
    "                clear_output(wait=True)\n",
    "                \n",
    "                # vanilla\n",
    "                plt.figure(figsize=(10, 5))\n",
    "                plt.plot(losses_train, label=\"Train\", color='blue', linewidth=2)\n",
    "                plt.plot(range(0, len(losses_test) * test_interval, test_interval), losses_test, label=\"Test\", color='red', linewidth=2)\n",
    "                plt.xlabel(\"Epoch\")\n",
    "                plt.ylabel(\"Loss\")\n",
    "                plt.title(\"Training and Test RMSE\")\n",
    "                plt.grid()\n",
    "                plt.legend()\n",
    "                plt.tight_layout()\n",
    "                plt.show()\n",
    "\n",
    "                # log\n",
    "                plt.figure(figsize=(10, 5))\n",
    "                plt.plot(losses_train, label=\"Train\", color='blue', linewidth=2)\n",
    "                plt.plot(range(0, len(losses_test) * test_interval, test_interval), losses_test, label=\"Test\", color='red', linewidth=2)\n",
    "                plt.yscale('log')\n",
    "                plt.xlabel(\"Epoch\")\n",
    "                plt.ylabel(\"Loss\")\n",
    "                plt.title(\"Training and Test RMSE (Log Scale)\")\n",
    "                plt.grid()\n",
    "                plt.legend()\n",
    "                plt.tight_layout()\n",
    "                plt.show()\n",
    "        except KeyboardInterrupt:\n",
    "            print(\"KeyboardInterrupt\")\n",
    "            break\n",
    "\n",
    "    writer.close()\n",
    "    save_model(model_market, model_derivative, optimizer, epoch, loss_train, loss_test, filepath=f\"saves/{SESSION}.model\")"
   ]
  },
  {
   "cell_type": "code",
   "execution_count": null,
   "metadata": {},
   "outputs": [],
   "source": [
    "from sklearn.metrics import mean_absolute_error as mae, root_mean_squared_error as rmse, r2_score as r2\n",
    "\n",
    "model_market.eval()\n",
    "model_derivative.eval()\n",
    "with torch.no_grad():\n",
    "    embedding_market_train = model_market(states_market_train)\n",
    "    embedding_derivative_train = model_derivative(states_derivative_train)\n",
    "    prediction_train = torch.sum(embedding_market_train * embedding_derivative_train, dim=1)\n",
    "\n",
    "    embedding_market_test = model_market(states_market_test)\n",
    "    embedding_derivative_test = model_derivative(states_derivative_test)\n",
    "    prediction_test = torch.sum(embedding_market_test * embedding_derivative_test, dim=1)\n",
    "\n",
    "scores = pd.DataFrame({\n",
    "    \"metric\": [\"RMSE\", \"R2\", \"MAE\"],\n",
    "    \"Train\": [rmse(target_train, prediction_train), r2(target_train, prediction_train), mae(target_train, prediction_train)],\n",
    "    \"Test\": [rmse(target_test, prediction_test), r2(target_test, prediction_test), mae(target_test, prediction_test)]\n",
    "})\n",
    "scores.to_markdown(f\"saves/scores/{SESSION}.md\")\n",
    "scores.to_pickle(f\"saves/scores/{SESSION}.pckl\")\n",
    "scores"
   ]
  },
  {
   "cell_type": "code",
   "execution_count": null,
   "metadata": {},
   "outputs": [
    {
     "data": {
      "text/plain": [
       "<matplotlib.lines.Line2D at 0x3a4063440>"
      ]
     },
     "execution_count": 241,
     "metadata": {},
     "output_type": "execute_result"
    },
    {
     "data": {
      "image/png": "[encoded data removed]",
      "text/plain": [
       "<Figure size 640x480 with 1 Axes>"
      ]
     },
     "metadata": {},
     "output_type": "display_data"
    }
   ],
   "source": [
    "plt.hist(target, bins=100)\n",
    "plt.axvline(target.mean(), color='r');"
   ]
  },
  {
   "cell_type": "code",
   "execution_count": null,
   "metadata": {},
   "outputs": [
    {
     "data": {
      "text/plain": [
       "6.241855485698943"
      ]
     },
     "execution_count": 243,
     "metadata": {},
     "output_type": "execute_result"
    }
   ],
   "source": [
    "from sklearn.metrics import root_mean_squared_error as rmse\n",
    "rmse(target, np.zeros_like(target) + target.mean())"
   ]
  }
 ],
 "metadata": {
  "kernelspec": {
   "display_name": "amc-env",
   "language": "python",
   "name": "python3"
  },
  "language_info": {
   "codemirror_mode": {
    "name": "ipython",
    "version": 3
   },
   "file_extension": ".py",
   "mimetype": "text/x-python",
   "name": "python",
   "nbconvert_exporter": "python",
   "pygments_lexer": "ipython3",
   "version": "3.12.0"
  }
 },
 "nbformat": 4,
 "nbformat_minor": 2
}
